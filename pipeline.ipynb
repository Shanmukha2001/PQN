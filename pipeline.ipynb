{
 "cells": [
  {
   "cell_type": "code",
   "execution_count": null,
   "id": "1bf36e0e-657f-4a34-b0d3-f558ab76771c",
   "metadata": {},
   "outputs": [],
   "source": [
    "from quantopian.pipeline import Pipeline\n",
    "from quantopian.research import run_pipeline\n",
    "from quantopian.pipeline.data.builtin import USEquityPricing"
   ]
  },
  {
   "cell_type": "code",
   "execution_count": null,
   "id": "f0c51c25-1662-40c4-8f01-e5755c8e48f0",
   "metadata": {},
   "outputs": [],
   "source": [
    "from quantpoian.pipeline.filters import Q1500US"
   ]
  },
  {
   "cell_type": "code",
   "execution_count": null,
   "id": "cf1ea0a8-e9ec-45ea-a6a7-b31c46d2a8cc",
   "metadata": {},
   "outputs": [],
   "source": [
    "universe = Q1500US()"
   ]
  },
  {
   "cell_type": "code",
   "execution_count": null,
   "id": "62c0150e-4b15-49b2-be28-f6da243d4601",
   "metadata": {},
   "outputs": [],
   "source": [
    "from quantopian.pipeline.data import morningstar"
   ]
  },
  {
   "cell_type": "code",
   "execution_count": null,
   "id": "74e788fa-8041-42fc-98ec-2de6a3611865",
   "metadata": {},
   "outputs": [],
   "source": [
    "sector = morningstar.asset_classification.morningstar_sector_code.latest"
   ]
  },
  {
   "cell_type": "code",
   "execution_count": null,
   "id": "5b5070d7-fe2a-4329-9eb3-e83c94f5131a",
   "metadata": {},
   "outputs": [],
   "source": [
    "energy_sector = sector.eq(309)"
   ]
  },
  {
   "cell_type": "code",
   "execution_count": null,
   "id": "ba9afe67-de58-46c4-9033-f053065d3560",
   "metadata": {},
   "outputs": [],
   "source": [
    "from quantopian.pipeline.factors import SimpleMovingAverage, AverageDollarValue"
   ]
  },
  {
   "cell_type": "code",
   "execution_count": null,
   "id": "22c7e523-d48c-46ac-b280-e618836349a2",
   "metadata": {},
   "outputs": [],
   "source": [
    "dollar_volume = AverageDollarVolume(window_length=30)\n",
    "high_dollar_volume = dollar_volume.percentile_between(90,100)\n",
    "top_open_price = USEquityPricing.open.latest.top(50,mask=high_dollar_volume) # top 50 securities with high open price among with top 10% dollar volume\n",
    "high_close_price = USEquityPricing.close.latest.percentile_between(90,100,mask=top_open_price) # top 50 securities with high close price among top 10% "
   ]
  },
  {
   "cell_type": "code",
   "execution_count": 2,
   "id": "1311be52-6622-4637-9536-261ea00abd0e",
   "metadata": {},
   "outputs": [],
   "source": [
    "def male_pipeline():\n",
    "    base_universe = Q1500US()\n",
    "    energy_sector = sector.eq(309)\n",
    "    base_energy = base_universe & energy_sector\n",
    "    dollar_volume = AverageDollarVolume(window_length=30)\n",
    "    high_dollar_volume = dollar_volume.percentile_between(95,100)\n",
    "    top_half_base_energy = base_energy & high_dollar_volume\n",
    "    mean_10 = SimpleMovingAverage(inputs= [USEquityPricing.close], window_length=10,mask=top_half_base_energy)\n",
    "    mean_30 = SimpleMovingAverage(inputs= [USEquityPricing.close], window_length=30,mask=top_half_base_energy)\n",
    "    percent_difference = (mean_10 - mean_30)/mean_30\n",
    "    shorts = percent_difference < 0\n",
    "    longs = percent_difference > 0\n",
    "    securirties_to_trade = (longs | shorts)\n",
    "    return Pipeline(columns = {\n",
    "            'longs': longs,\n",
    "            'shorts': shorts,\n",
    "            'percent_diff':percent_difference\n",
    "    },screen=securities_to_trade)"
   ]
  },
  {
   "cell_type": "code",
   "execution_count": null,
   "id": "12e87224-a2c4-450f-8e9c-b531d94369d4",
   "metadata": {},
   "outputs": [],
   "source": [
    "result = run_pipeline(make_pipeline(),'2015-05-05','2015-05-05')\n",
    "result"
   ]
  },
  {
   "cell_type": "code",
   "execution_count": null,
   "id": "3c2af530-9f9a-4bcc-b75a-8fb4cc783c65",
   "metadata": {},
   "outputs": [],
   "source": [
    "from quantopian.algorithm import attach_pipeline,pipeline_output\n",
    "from quantopian.pipeline import Pipeline\n",
    "from quantopian.pipeline.data.builtin import USEquityPricing\n",
    "from quantopian.pipeline.factors import AverageDollarVolume,SimpleMovingAverage\n",
    "from quantopian.pipeline.filters.morningstar import Q1500US\n",
    "from quantopian.pipeline.data import morningstar\n",
    "\n",
    "\n",
    "# init->  before_trading_start (uses compute weights) -> my_rebalance\n",
    "def initialize(context):\n",
    "    schedule_function(my_rebalance,date_rules.week_start(),time_rules.market_open(hours=1))\n",
    "    my_pipe = make_pipeline()\n",
    "    attach_pipeline(my_pipe,'my_pipeline')\n",
    "\n",
    "\n",
    "\n",
    "def my_rebalance(context,data):\n",
    "    for security in context.portfolio.positions:\n",
    "        if security not in context.longs and security not in context.shorts and data.can_trade(security):\n",
    "            order_target_percent(security,0)\n",
    "    for security in context.longs:\n",
    "        if data.can_trade(security):\n",
    "            order_target_percent(security,context.long_weight)\n",
    "\n",
    "    for security in context.shorts:\n",
    "        if data.can_trade(security):\n",
    "            order_target_percent(security,context.short_weight)\n",
    "\n",
    "def my_compute_weights(context):\n",
    "    \n",
    "    if len(context.longs)==0:\n",
    "        long_weight = 0\n",
    "    else:\n",
    "        long_weight = 0.5 / len(context.longs)\n",
    "  \n",
    "    if len(context.shorts)==0:\n",
    "        short_weight = 0\n",
    "    else:\n",
    "        short_weight = 0.5 / len(context.shorts)\n",
    "    \n",
    "    return (long_weight,short_weight)\n",
    "    \n",
    "def before_trading_start(context,data):\n",
    "    context.output = pipeline_output('my_pipeline')\n",
    "\n",
    "    context.longs = context.output[context.output['longs']].index.tolist()\n",
    "    context.shorts = context.output[context.output['shorts']].index.tolist()\n",
    "    context.long_weight,context.short_weight = my_compute_weights(context)\n",
    "\n",
    "def make_pipeline():\n",
    "    \n",
    "    # Universe Q1500US\n",
    "    base_universe = Q1500US()\n",
    "    \n",
    "    # Energy Sector\n",
    "    sector = morningstar.asset_classification.morningstar_sector_code.latest\n",
    "    energy_sector = sector.eq(309)\n",
    "    \n",
    "    # Make Mask of 1500US and Energy\n",
    "    base_energy = base_universe & energy_sector\n",
    "    \n",
    "    # Dollar Volume (30 Days) Grab the Info\n",
    "    dollar_volume = AverageDollarVolume(window_length=30)\n",
    "    \n",
    "    # Grab the top 5% in avg dollar volume\n",
    "    high_dollar_volume = dollar_volume.percentile_between(95,100)\n",
    "     \n",
    "    # Combine the filters\n",
    "    top_five_base_energy = base_energy & high_dollar_volume\n",
    "    \n",
    "    # 10 day mean close\n",
    "    mean_10 = SimpleMovingAverage(inputs=[USEquityPricing.close],window_length=10,mask=top_five_base_energy)\n",
    "    \n",
    "    # 30 day mean close\n",
    "    mean_30 = SimpleMovingAverage(inputs=[USEquityPricing.close],window_length=30,mask=top_five_base_energy)\n",
    "    \n",
    "    # Percent Difference\n",
    "    percent_difference = (mean_10-mean_30)/mean_30\n",
    "    \n",
    "    # List of Shorts\n",
    "    shorts = percent_difference < 0\n",
    "    \n",
    "    # List of Longs\n",
    "    longs = percent_difference > 0\n",
    "    \n",
    "    # Final Mask/Filter for anything in shorts or longs\n",
    "    securities_to_trade = (shorts | longs)\n",
    "    \n",
    "    # Return Pipeline\n",
    "    return Pipeline(columns={\n",
    "        'longs':longs,\n",
    "        'shorts':shorts,\n",
    "        'perc_diff':percent_difference\n",
    "    },screen=securities_to_trade)\n",
    "    "
   ]
  },
  {
   "cell_type": "code",
   "execution_count": null,
   "id": "e1ec7e03-3d62-4b3a-b56a-e5dce978d122",
   "metadata": {},
   "outputs": [],
   "source": []
  }
 ],
 "metadata": {
  "kernelspec": {
   "display_name": "Python 3 (ipykernel)",
   "language": "python",
   "name": "python3"
  },
  "language_info": {
   "codemirror_mode": {
    "name": "ipython",
    "version": 3
   },
   "file_extension": ".py",
   "mimetype": "text/x-python",
   "name": "python",
   "nbconvert_exporter": "python",
   "pygments_lexer": "ipython3",
   "version": "3.10.12"
  }
 },
 "nbformat": 4,
 "nbformat_minor": 5
}
