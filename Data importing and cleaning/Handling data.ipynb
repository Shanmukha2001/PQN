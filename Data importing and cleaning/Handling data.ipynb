{
 "cells": [
  {
   "cell_type": "code",
   "execution_count": 55,
   "id": "a4cbbda4-c10c-4e7b-b65d-cd36b086720e",
   "metadata": {},
   "outputs": [],
   "source": [
    "import datetime as dt\n",
    "import yfinance as yf\n",
    "import pandas as pd\n",
    "import numpy as np"
   ]
  },
  {
   "cell_type": "code",
   "execution_count": 21,
   "id": "e1566c50-30de-40a3-af45-7d0917626a0a",
   "metadata": {},
   "outputs": [],
   "source": [
    "stocks = ['AMZN', 'MSFT', 'META', 'GOOG']\n",
    "start = dt.datetime(2012, 1, 1)-dt.timedelta(3650)\n",
    "end = dt.datetime.today()\n",
    "cl_price = pd.DataFrame()\n",
    "ohlcv_data = {} # empty dict"
   ]
  },
  {
   "cell_type": "code",
   "execution_count": 22,
   "id": "79a484ff-36b9-4e5d-8c67-471b35007b77",
   "metadata": {},
   "outputs": [
    {
     "name": "stderr",
     "output_type": "stream",
     "text": [
      "[*********************100%***********************]  1 of 1 completed\n",
      "[*********************100%***********************]  1 of 1 completed\n",
      "[*********************100%***********************]  1 of 1 completed\n",
      "[*********************100%***********************]  1 of 1 completed\n"
     ]
    },
    {
     "data": {
      "text/html": [
       "<div>\n",
       "<style scoped>\n",
       "    .dataframe tbody tr th:only-of-type {\n",
       "        vertical-align: middle;\n",
       "    }\n",
       "\n",
       "    .dataframe tbody tr th {\n",
       "        vertical-align: top;\n",
       "    }\n",
       "\n",
       "    .dataframe thead th {\n",
       "        text-align: right;\n",
       "    }\n",
       "</style>\n",
       "<table border=\"1\" class=\"dataframe\">\n",
       "  <thead>\n",
       "    <tr style=\"text-align: right;\">\n",
       "      <th></th>\n",
       "      <th>AMZN</th>\n",
       "      <th>MSFT</th>\n",
       "      <th>META</th>\n",
       "      <th>GOOG</th>\n",
       "    </tr>\n",
       "    <tr>\n",
       "      <th>Date</th>\n",
       "      <th></th>\n",
       "      <th></th>\n",
       "      <th></th>\n",
       "      <th></th>\n",
       "    </tr>\n",
       "  </thead>\n",
       "  <tbody>\n",
       "    <tr>\n",
       "      <th>2002-01-03</th>\n",
       "      <td>0.595000</td>\n",
       "      <td>21.343399</td>\n",
       "      <td>NaN</td>\n",
       "      <td>NaN</td>\n",
       "    </tr>\n",
       "    <tr>\n",
       "      <th>2002-01-04</th>\n",
       "      <td>0.612500</td>\n",
       "      <td>21.241661</td>\n",
       "      <td>NaN</td>\n",
       "      <td>NaN</td>\n",
       "    </tr>\n",
       "    <tr>\n",
       "      <th>2002-01-07</th>\n",
       "      <td>0.617000</td>\n",
       "      <td>21.136839</td>\n",
       "      <td>NaN</td>\n",
       "      <td>NaN</td>\n",
       "    </tr>\n",
       "    <tr>\n",
       "      <th>2002-01-08</th>\n",
       "      <td>0.592500</td>\n",
       "      <td>21.389643</td>\n",
       "      <td>NaN</td>\n",
       "      <td>NaN</td>\n",
       "    </tr>\n",
       "    <tr>\n",
       "      <th>2002-01-09</th>\n",
       "      <td>0.576500</td>\n",
       "      <td>21.183083</td>\n",
       "      <td>NaN</td>\n",
       "      <td>NaN</td>\n",
       "    </tr>\n",
       "    <tr>\n",
       "      <th>...</th>\n",
       "      <td>...</td>\n",
       "      <td>...</td>\n",
       "      <td>...</td>\n",
       "      <td>...</td>\n",
       "    </tr>\n",
       "    <tr>\n",
       "      <th>2024-12-23</th>\n",
       "      <td>225.059998</td>\n",
       "      <td>435.250000</td>\n",
       "      <td>599.849976</td>\n",
       "      <td>195.990005</td>\n",
       "    </tr>\n",
       "    <tr>\n",
       "      <th>2024-12-24</th>\n",
       "      <td>229.050003</td>\n",
       "      <td>439.329987</td>\n",
       "      <td>607.750000</td>\n",
       "      <td>197.570007</td>\n",
       "    </tr>\n",
       "    <tr>\n",
       "      <th>2024-12-26</th>\n",
       "      <td>227.050003</td>\n",
       "      <td>438.109985</td>\n",
       "      <td>603.349976</td>\n",
       "      <td>197.100006</td>\n",
       "    </tr>\n",
       "    <tr>\n",
       "      <th>2024-12-27</th>\n",
       "      <td>223.750000</td>\n",
       "      <td>430.529999</td>\n",
       "      <td>599.809998</td>\n",
       "      <td>194.039993</td>\n",
       "    </tr>\n",
       "    <tr>\n",
       "      <th>2024-12-30</th>\n",
       "      <td>221.799103</td>\n",
       "      <td>426.554993</td>\n",
       "      <td>595.969971</td>\n",
       "      <td>193.389999</td>\n",
       "    </tr>\n",
       "  </tbody>\n",
       "</table>\n",
       "<p>5787 rows × 4 columns</p>\n",
       "</div>"
      ],
      "text/plain": [
       "                  AMZN        MSFT        META        GOOG\n",
       "Date                                                      \n",
       "2002-01-03    0.595000   21.343399         NaN         NaN\n",
       "2002-01-04    0.612500   21.241661         NaN         NaN\n",
       "2002-01-07    0.617000   21.136839         NaN         NaN\n",
       "2002-01-08    0.592500   21.389643         NaN         NaN\n",
       "2002-01-09    0.576500   21.183083         NaN         NaN\n",
       "...                ...         ...         ...         ...\n",
       "2024-12-23  225.059998  435.250000  599.849976  195.990005\n",
       "2024-12-24  229.050003  439.329987  607.750000  197.570007\n",
       "2024-12-26  227.050003  438.109985  603.349976  197.100006\n",
       "2024-12-27  223.750000  430.529999  599.809998  194.039993\n",
       "2024-12-30  221.799103  426.554993  595.969971  193.389999\n",
       "\n",
       "[5787 rows x 4 columns]"
      ]
     },
     "execution_count": 22,
     "metadata": {},
     "output_type": "execute_result"
    }
   ],
   "source": [
    "for ticker in stocks:\n",
    "    cl_price[ticker] = yf.download(ticker,start,end)[\"Close\"]\n",
    "cl_price"
   ]
  },
  {
   "cell_type": "code",
   "execution_count": 23,
   "id": "a183a317-d9b1-4739-a032-bd26e6f93d9c",
   "metadata": {},
   "outputs": [
    {
     "name": "stderr",
     "output_type": "stream",
     "text": [
      "/tmp/ipykernel_57277/520666444.py:2: FutureWarning: DataFrame.fillna with 'method' is deprecated and will raise in a future version. Use obj.ffill() or obj.bfill() instead.\n",
      "  cl_price.fillna(method='bfill',axis = 0) # for back filling using rows\n"
     ]
    },
    {
     "data": {
      "text/html": [
       "<div>\n",
       "<style scoped>\n",
       "    .dataframe tbody tr th:only-of-type {\n",
       "        vertical-align: middle;\n",
       "    }\n",
       "\n",
       "    .dataframe tbody tr th {\n",
       "        vertical-align: top;\n",
       "    }\n",
       "\n",
       "    .dataframe thead th {\n",
       "        text-align: right;\n",
       "    }\n",
       "</style>\n",
       "<table border=\"1\" class=\"dataframe\">\n",
       "  <thead>\n",
       "    <tr style=\"text-align: right;\">\n",
       "      <th></th>\n",
       "      <th>AMZN</th>\n",
       "      <th>MSFT</th>\n",
       "      <th>META</th>\n",
       "      <th>GOOG</th>\n",
       "    </tr>\n",
       "    <tr>\n",
       "      <th>Date</th>\n",
       "      <th></th>\n",
       "      <th></th>\n",
       "      <th></th>\n",
       "      <th></th>\n",
       "    </tr>\n",
       "  </thead>\n",
       "  <tbody>\n",
       "    <tr>\n",
       "      <th>2002-01-03</th>\n",
       "      <td>0.595000</td>\n",
       "      <td>21.343399</td>\n",
       "      <td>38.084518</td>\n",
       "      <td>2.490185</td>\n",
       "    </tr>\n",
       "    <tr>\n",
       "      <th>2002-01-04</th>\n",
       "      <td>0.612500</td>\n",
       "      <td>21.241661</td>\n",
       "      <td>38.084518</td>\n",
       "      <td>2.490185</td>\n",
       "    </tr>\n",
       "    <tr>\n",
       "      <th>2002-01-07</th>\n",
       "      <td>0.617000</td>\n",
       "      <td>21.136839</td>\n",
       "      <td>38.084518</td>\n",
       "      <td>2.490185</td>\n",
       "    </tr>\n",
       "    <tr>\n",
       "      <th>2002-01-08</th>\n",
       "      <td>0.592500</td>\n",
       "      <td>21.389643</td>\n",
       "      <td>38.084518</td>\n",
       "      <td>2.490185</td>\n",
       "    </tr>\n",
       "    <tr>\n",
       "      <th>2002-01-09</th>\n",
       "      <td>0.576500</td>\n",
       "      <td>21.183083</td>\n",
       "      <td>38.084518</td>\n",
       "      <td>2.490185</td>\n",
       "    </tr>\n",
       "    <tr>\n",
       "      <th>...</th>\n",
       "      <td>...</td>\n",
       "      <td>...</td>\n",
       "      <td>...</td>\n",
       "      <td>...</td>\n",
       "    </tr>\n",
       "    <tr>\n",
       "      <th>2024-12-23</th>\n",
       "      <td>225.059998</td>\n",
       "      <td>435.250000</td>\n",
       "      <td>599.849976</td>\n",
       "      <td>195.990005</td>\n",
       "    </tr>\n",
       "    <tr>\n",
       "      <th>2024-12-24</th>\n",
       "      <td>229.050003</td>\n",
       "      <td>439.329987</td>\n",
       "      <td>607.750000</td>\n",
       "      <td>197.570007</td>\n",
       "    </tr>\n",
       "    <tr>\n",
       "      <th>2024-12-26</th>\n",
       "      <td>227.050003</td>\n",
       "      <td>438.109985</td>\n",
       "      <td>603.349976</td>\n",
       "      <td>197.100006</td>\n",
       "    </tr>\n",
       "    <tr>\n",
       "      <th>2024-12-27</th>\n",
       "      <td>223.750000</td>\n",
       "      <td>430.529999</td>\n",
       "      <td>599.809998</td>\n",
       "      <td>194.039993</td>\n",
       "    </tr>\n",
       "    <tr>\n",
       "      <th>2024-12-30</th>\n",
       "      <td>221.799103</td>\n",
       "      <td>426.554993</td>\n",
       "      <td>595.969971</td>\n",
       "      <td>193.389999</td>\n",
       "    </tr>\n",
       "  </tbody>\n",
       "</table>\n",
       "<p>5787 rows × 4 columns</p>\n",
       "</div>"
      ],
      "text/plain": [
       "                  AMZN        MSFT        META        GOOG\n",
       "Date                                                      \n",
       "2002-01-03    0.595000   21.343399   38.084518    2.490185\n",
       "2002-01-04    0.612500   21.241661   38.084518    2.490185\n",
       "2002-01-07    0.617000   21.136839   38.084518    2.490185\n",
       "2002-01-08    0.592500   21.389643   38.084518    2.490185\n",
       "2002-01-09    0.576500   21.183083   38.084518    2.490185\n",
       "...                ...         ...         ...         ...\n",
       "2024-12-23  225.059998  435.250000  599.849976  195.990005\n",
       "2024-12-24  229.050003  439.329987  607.750000  197.570007\n",
       "2024-12-26  227.050003  438.109985  603.349976  197.100006\n",
       "2024-12-27  223.750000  430.529999  599.809998  194.039993\n",
       "2024-12-30  221.799103  426.554993  595.969971  193.389999\n",
       "\n",
       "[5787 rows x 4 columns]"
      ]
     },
     "execution_count": 23,
     "metadata": {},
     "output_type": "execute_result"
    }
   ],
   "source": [
    "# FILLING ALL NA WITH FIRST NON NA VALUE\n",
    "cl_price.fillna(method='bfill',axis = 0) # for back filling using rows"
   ]
  },
  {
   "cell_type": "code",
   "execution_count": 25,
   "id": "dbce0f85-e3a1-4654-ba61-a16a4d9d00ac",
   "metadata": {},
   "outputs": [
    {
     "name": "stderr",
     "output_type": "stream",
     "text": [
      "/tmp/ipykernel_57277/610661869.py:1: FutureWarning: DataFrame.fillna with 'method' is deprecated and will raise in a future version. Use obj.ffill() or obj.bfill() instead.\n",
      "  cl_price.fillna(method='bfill',axis = 1) # for back filling using rows\n"
     ]
    },
    {
     "data": {
      "text/html": [
       "<div>\n",
       "<style scoped>\n",
       "    .dataframe tbody tr th:only-of-type {\n",
       "        vertical-align: middle;\n",
       "    }\n",
       "\n",
       "    .dataframe tbody tr th {\n",
       "        vertical-align: top;\n",
       "    }\n",
       "\n",
       "    .dataframe thead th {\n",
       "        text-align: right;\n",
       "    }\n",
       "</style>\n",
       "<table border=\"1\" class=\"dataframe\">\n",
       "  <thead>\n",
       "    <tr style=\"text-align: right;\">\n",
       "      <th></th>\n",
       "      <th>AMZN</th>\n",
       "      <th>MSFT</th>\n",
       "      <th>META</th>\n",
       "      <th>GOOG</th>\n",
       "    </tr>\n",
       "    <tr>\n",
       "      <th>Date</th>\n",
       "      <th></th>\n",
       "      <th></th>\n",
       "      <th></th>\n",
       "      <th></th>\n",
       "    </tr>\n",
       "  </thead>\n",
       "  <tbody>\n",
       "    <tr>\n",
       "      <th>2002-01-03</th>\n",
       "      <td>0.595000</td>\n",
       "      <td>21.343399</td>\n",
       "      <td>NaN</td>\n",
       "      <td>NaN</td>\n",
       "    </tr>\n",
       "    <tr>\n",
       "      <th>2002-01-04</th>\n",
       "      <td>0.612500</td>\n",
       "      <td>21.241661</td>\n",
       "      <td>NaN</td>\n",
       "      <td>NaN</td>\n",
       "    </tr>\n",
       "    <tr>\n",
       "      <th>2002-01-07</th>\n",
       "      <td>0.617000</td>\n",
       "      <td>21.136839</td>\n",
       "      <td>NaN</td>\n",
       "      <td>NaN</td>\n",
       "    </tr>\n",
       "    <tr>\n",
       "      <th>2002-01-08</th>\n",
       "      <td>0.592500</td>\n",
       "      <td>21.389643</td>\n",
       "      <td>NaN</td>\n",
       "      <td>NaN</td>\n",
       "    </tr>\n",
       "    <tr>\n",
       "      <th>2002-01-09</th>\n",
       "      <td>0.576500</td>\n",
       "      <td>21.183083</td>\n",
       "      <td>NaN</td>\n",
       "      <td>NaN</td>\n",
       "    </tr>\n",
       "    <tr>\n",
       "      <th>...</th>\n",
       "      <td>...</td>\n",
       "      <td>...</td>\n",
       "      <td>...</td>\n",
       "      <td>...</td>\n",
       "    </tr>\n",
       "    <tr>\n",
       "      <th>2024-12-23</th>\n",
       "      <td>225.059998</td>\n",
       "      <td>435.250000</td>\n",
       "      <td>599.849976</td>\n",
       "      <td>195.990005</td>\n",
       "    </tr>\n",
       "    <tr>\n",
       "      <th>2024-12-24</th>\n",
       "      <td>229.050003</td>\n",
       "      <td>439.329987</td>\n",
       "      <td>607.750000</td>\n",
       "      <td>197.570007</td>\n",
       "    </tr>\n",
       "    <tr>\n",
       "      <th>2024-12-26</th>\n",
       "      <td>227.050003</td>\n",
       "      <td>438.109985</td>\n",
       "      <td>603.349976</td>\n",
       "      <td>197.100006</td>\n",
       "    </tr>\n",
       "    <tr>\n",
       "      <th>2024-12-27</th>\n",
       "      <td>223.750000</td>\n",
       "      <td>430.529999</td>\n",
       "      <td>599.809998</td>\n",
       "      <td>194.039993</td>\n",
       "    </tr>\n",
       "    <tr>\n",
       "      <th>2024-12-30</th>\n",
       "      <td>221.799103</td>\n",
       "      <td>426.554993</td>\n",
       "      <td>595.969971</td>\n",
       "      <td>193.389999</td>\n",
       "    </tr>\n",
       "  </tbody>\n",
       "</table>\n",
       "<p>5787 rows × 4 columns</p>\n",
       "</div>"
      ],
      "text/plain": [
       "                  AMZN        MSFT        META        GOOG\n",
       "Date                                                      \n",
       "2002-01-03    0.595000   21.343399         NaN         NaN\n",
       "2002-01-04    0.612500   21.241661         NaN         NaN\n",
       "2002-01-07    0.617000   21.136839         NaN         NaN\n",
       "2002-01-08    0.592500   21.389643         NaN         NaN\n",
       "2002-01-09    0.576500   21.183083         NaN         NaN\n",
       "...                ...         ...         ...         ...\n",
       "2024-12-23  225.059998  435.250000  599.849976  195.990005\n",
       "2024-12-24  229.050003  439.329987  607.750000  197.570007\n",
       "2024-12-26  227.050003  438.109985  603.349976  197.100006\n",
       "2024-12-27  223.750000  430.529999  599.809998  194.039993\n",
       "2024-12-30  221.799103  426.554993  595.969971  193.389999\n",
       "\n",
       "[5787 rows x 4 columns]"
      ]
     },
     "execution_count": 25,
     "metadata": {},
     "output_type": "execute_result"
    }
   ],
   "source": [
    "cl_price.fillna(method='bfill',axis = 1) # for back filling using rows"
   ]
  },
  {
   "cell_type": "code",
   "execution_count": 26,
   "id": "897a7254-1752-4b20-bc76-da1423f94b0c",
   "metadata": {
    "scrolled": true
   },
   "outputs": [
    {
     "data": {
      "text/html": [
       "<div>\n",
       "<style scoped>\n",
       "    .dataframe tbody tr th:only-of-type {\n",
       "        vertical-align: middle;\n",
       "    }\n",
       "\n",
       "    .dataframe tbody tr th {\n",
       "        vertical-align: top;\n",
       "    }\n",
       "\n",
       "    .dataframe thead th {\n",
       "        text-align: right;\n",
       "    }\n",
       "</style>\n",
       "<table border=\"1\" class=\"dataframe\">\n",
       "  <thead>\n",
       "    <tr style=\"text-align: right;\">\n",
       "      <th></th>\n",
       "      <th>AMZN</th>\n",
       "      <th>MSFT</th>\n",
       "      <th>META</th>\n",
       "      <th>GOOG</th>\n",
       "    </tr>\n",
       "    <tr>\n",
       "      <th>Date</th>\n",
       "      <th></th>\n",
       "      <th></th>\n",
       "      <th></th>\n",
       "      <th></th>\n",
       "    </tr>\n",
       "  </thead>\n",
       "  <tbody>\n",
       "    <tr>\n",
       "      <th>2002-01-03</th>\n",
       "      <td>0.595000</td>\n",
       "      <td>21.343399</td>\n",
       "      <td>NaN</td>\n",
       "      <td>NaN</td>\n",
       "    </tr>\n",
       "    <tr>\n",
       "      <th>2002-01-04</th>\n",
       "      <td>0.612500</td>\n",
       "      <td>21.241661</td>\n",
       "      <td>NaN</td>\n",
       "      <td>NaN</td>\n",
       "    </tr>\n",
       "    <tr>\n",
       "      <th>2002-01-07</th>\n",
       "      <td>0.617000</td>\n",
       "      <td>21.136839</td>\n",
       "      <td>NaN</td>\n",
       "      <td>NaN</td>\n",
       "    </tr>\n",
       "    <tr>\n",
       "      <th>2002-01-08</th>\n",
       "      <td>0.592500</td>\n",
       "      <td>21.389643</td>\n",
       "      <td>NaN</td>\n",
       "      <td>NaN</td>\n",
       "    </tr>\n",
       "    <tr>\n",
       "      <th>2002-01-09</th>\n",
       "      <td>0.576500</td>\n",
       "      <td>21.183083</td>\n",
       "      <td>NaN</td>\n",
       "      <td>NaN</td>\n",
       "    </tr>\n",
       "    <tr>\n",
       "      <th>...</th>\n",
       "      <td>...</td>\n",
       "      <td>...</td>\n",
       "      <td>...</td>\n",
       "      <td>...</td>\n",
       "    </tr>\n",
       "    <tr>\n",
       "      <th>2024-12-23</th>\n",
       "      <td>225.059998</td>\n",
       "      <td>435.250000</td>\n",
       "      <td>599.849976</td>\n",
       "      <td>195.990005</td>\n",
       "    </tr>\n",
       "    <tr>\n",
       "      <th>2024-12-24</th>\n",
       "      <td>229.050003</td>\n",
       "      <td>439.329987</td>\n",
       "      <td>607.750000</td>\n",
       "      <td>197.570007</td>\n",
       "    </tr>\n",
       "    <tr>\n",
       "      <th>2024-12-26</th>\n",
       "      <td>227.050003</td>\n",
       "      <td>438.109985</td>\n",
       "      <td>603.349976</td>\n",
       "      <td>197.100006</td>\n",
       "    </tr>\n",
       "    <tr>\n",
       "      <th>2024-12-27</th>\n",
       "      <td>223.750000</td>\n",
       "      <td>430.529999</td>\n",
       "      <td>599.809998</td>\n",
       "      <td>194.039993</td>\n",
       "    </tr>\n",
       "    <tr>\n",
       "      <th>2024-12-30</th>\n",
       "      <td>221.799103</td>\n",
       "      <td>426.554993</td>\n",
       "      <td>595.969971</td>\n",
       "      <td>193.389999</td>\n",
       "    </tr>\n",
       "  </tbody>\n",
       "</table>\n",
       "<p>5787 rows × 4 columns</p>\n",
       "</div>"
      ],
      "text/plain": [
       "                  AMZN        MSFT        META        GOOG\n",
       "Date                                                      \n",
       "2002-01-03    0.595000   21.343399         NaN         NaN\n",
       "2002-01-04    0.612500   21.241661         NaN         NaN\n",
       "2002-01-07    0.617000   21.136839         NaN         NaN\n",
       "2002-01-08    0.592500   21.389643         NaN         NaN\n",
       "2002-01-09    0.576500   21.183083         NaN         NaN\n",
       "...                ...         ...         ...         ...\n",
       "2024-12-23  225.059998  435.250000  599.849976  195.990005\n",
       "2024-12-24  229.050003  439.329987  607.750000  197.570007\n",
       "2024-12-26  227.050003  438.109985  603.349976  197.100006\n",
       "2024-12-27  223.750000  430.529999  599.809998  194.039993\n",
       "2024-12-30  221.799103  426.554993  595.969971  193.389999\n",
       "\n",
       "[5787 rows x 4 columns]"
      ]
     },
     "execution_count": 26,
     "metadata": {},
     "output_type": "execute_result"
    }
   ],
   "source": [
    "cl_price.dropna(axis=0,how='all'b) # remove the rows if all the values of the are nan"
   ]
  },
  {
   "cell_type": "markdown",
   "id": "6c723e26-bb39-42a9-9d90-97072b896b98",
   "metadata": {},
   "source": [
    "## CAGR , Buy and hold implementation"
   ]
  },
  {
   "cell_type": "code",
   "execution_count": 35,
   "id": "b708357e-2e55-4b5b-be8b-31a1b3c1625e",
   "metadata": {},
   "outputs": [],
   "source": [
    "df = cl_price['AMZN'].copy()\n",
    "df['return'] = df.pct_change()"
   ]
  },
  {
   "cell_type": "code",
   "execution_count": 36,
   "id": "7e215b04-4176-4306-b63e-cc179af79a4c",
   "metadata": {},
   "outputs": [],
   "source": [
    "df['cum_return'] = (1+df['return']).cumprod()"
   ]
  },
  {
   "cell_type": "code",
   "execution_count": 37,
   "id": "6117ea08-7863-4913-8c89-dcf841a52ccc",
   "metadata": {},
   "outputs": [
    {
     "data": {
      "text/plain": [
       "Date\n",
       "2002-01-03 00:00:00     0.595\n",
       "2002-01-04 00:00:00    0.6125\n",
       "2002-01-07 00:00:00     0.617\n",
       "2002-01-08 00:00:00    0.5925\n",
       "2002-01-09 00:00:00    0.5765\n",
       "Name: AMZN, dtype: object"
      ]
     },
     "execution_count": 37,
     "metadata": {},
     "output_type": "execute_result"
    }
   ],
   "source": [
    "df.head()"
   ]
  },
  {
   "cell_type": "code",
   "execution_count": 40,
   "id": "7f9dd701-f141-4d3f-bee1-0defb3c36bdf",
   "metadata": {},
   "outputs": [
    {
     "name": "stderr",
     "output_type": "stream",
     "text": [
      "/tmp/ipykernel_57277/2168288517.py:2: FutureWarning: Series.__getitem__ treating keys as positions is deprecated. In a future version, integer keys will always be treated as labels (consistent with DataFrame behavior). To access a value by position, use `ser.iloc[pos]`\n",
      "  CAGR = (df['cum_return'][-1])**(1/n)-1\n"
     ]
    }
   ],
   "source": [
    "n = len(df)/252\n",
    "CAGR = (df['cum_return'][-1])**(1/n)-1"
   ]
  },
  {
   "cell_type": "code",
   "execution_count": 41,
   "id": "2be67146-bd1c-43ce-840a-07f0e1978268",
   "metadata": {},
   "outputs": [
    {
     "data": {
      "text/plain": [
       "np.float64(0.2940082657079528)"
      ]
     },
     "execution_count": 41,
     "metadata": {},
     "output_type": "execute_result"
    }
   ],
   "source": [
    "CAGR"
   ]
  },
  {
   "cell_type": "code",
   "execution_count": 82,
   "id": "a7b70c6e-2320-4703-a9de-5e6bccc37af4",
   "metadata": {},
   "outputs": [],
   "source": [
    "def CAGR(df):\n",
    "    df = df['Close'].copy()\n",
    "    df['return'] = df.pct_change()\n",
    "    df['cum_return'] = (1+df['return']).cumprod()\n",
    "    n = len(df)/252\n",
    "    CAGR = (df['cum_return'][-1])**(1/n)-1\n",
    "    return CAGR"
   ]
  },
  {
   "cell_type": "code",
   "execution_count": 46,
   "id": "a64cde2d-361d-47b3-ba5f-8e90f1242c8b",
   "metadata": {},
   "outputs": [],
   "source": [
    "for ticker in ohlcv_data:\n",
    "    print(f\"CAGR for {ticker} , CAGR ={CAGR(ticker)}\")"
   ]
  },
  {
   "cell_type": "markdown",
   "id": "41610efb-7b10-4b8a-bd3f-cb9a9355f31a",
   "metadata": {},
   "source": [
    "## Annualized Volatility"
   ]
  },
  {
   "cell_type": "code",
   "execution_count": 108,
   "id": "8a649ed9-d6c6-4062-9643-8bdcfbc77cc7",
   "metadata": {},
   "outputs": [
    {
     "name": "stderr",
     "output_type": "stream",
     "text": [
      "[*********************100%***********************]  1 of 1 completed\n",
      "[*********************100%***********************]  1 of 1 completed\n",
      "[*********************100%***********************]  1 of 1 completed\n",
      "[*********************100%***********************]  1 of 1 completed\n"
     ]
    }
   ],
   "source": [
    "for ticker in stocks:\n",
    "    temp = yf.download(ticker,period=\"6mo\",interval='1d')\n",
    "    temp.dropna(how='any',inplace=True)\n",
    "    ohlcv_data[ticker] = temp"
   ]
  },
  {
   "cell_type": "code",
   "execution_count": 77,
   "id": "dad592c2-0201-4ef6-99b6-387fcef3633b",
   "metadata": {},
   "outputs": [],
   "source": [
    "def volatility(DF):\n",
    "    df = DF.copy()\n",
    "    df.dropna(how='any',inplace=True)\n",
    "    df['return'] = df['Close'].pct_change()\n",
    "    vol = df['return'].std() * np.sqrt(252)\n",
    "    return vol"
   ]
  },
  {
   "cell_type": "code",
   "execution_count": 78,
   "id": "3e0ba3d9-5caa-475b-8e00-c481b6340f35",
   "metadata": {
    "scrolled": true
   },
   "outputs": [
    {
     "name": "stdout",
     "output_type": "stream",
     "text": [
      "vol of AMZN is 0.3091939282264988\n",
      "vol of MSFT is 0.20658744524641032\n",
      "vol of META is 0.30465879621638287\n",
      "vol of GOOG is 0.27755865048185924\n"
     ]
    }
   ],
   "source": [
    "for ticker in ohlcv_data:\n",
    "    # print(ohlcv_data[ticker].head())\n",
    "    print(f\"vol of {ticker} is {volatility(ohlcv_data[ticker])}\")"
   ]
  },
  {
   "cell_type": "code",
   "execution_count": 85,
   "id": "18842d00-c898-427a-88e8-79e73a9f8276",
   "metadata": {
    "scrolled": true
   },
   "outputs": [
    {
     "name": "stdout",
     "output_type": "stream",
     "text": [
      "sharpe of AMZN is 0.1710031996109384\n",
      "sharpe of MSFT is -0.2664540903291109\n",
      "sharpe of META is 0.29731141758208285\n",
      "sharpe of GOOG is -0.0009913110208303322\n"
     ]
    },
    {
     "name": "stderr",
     "output_type": "stream",
     "text": [
      "/tmp/ipykernel_57277/1545084155.py:6: FutureWarning: Series.__getitem__ treating keys as positions is deprecated. In a future version, integer keys will always be treated as labels (consistent with DataFrame behavior). To access a value by position, use `ser.iloc[pos]`\n",
      "  CAGR = (df['cum_return'][-1])**(1/n)-1\n",
      "/tmp/ipykernel_57277/1545084155.py:6: FutureWarning: Series.__getitem__ treating keys as positions is deprecated. In a future version, integer keys will always be treated as labels (consistent with DataFrame behavior). To access a value by position, use `ser.iloc[pos]`\n",
      "  CAGR = (df['cum_return'][-1])**(1/n)-1\n",
      "/tmp/ipykernel_57277/1545084155.py:6: FutureWarning: Series.__getitem__ treating keys as positions is deprecated. In a future version, integer keys will always be treated as labels (consistent with DataFrame behavior). To access a value by position, use `ser.iloc[pos]`\n",
      "  CAGR = (df['cum_return'][-1])**(1/n)-1\n",
      "/tmp/ipykernel_57277/1545084155.py:6: FutureWarning: Series.__getitem__ treating keys as positions is deprecated. In a future version, integer keys will always be treated as labels (consistent with DataFrame behavior). To access a value by position, use `ser.iloc[pos]`\n",
      "  CAGR = (df['cum_return'][-1])**(1/n)-1\n"
     ]
    }
   ],
   "source": [
    "# sharpe\n",
    "for ticker in ohlcv_data:\n",
    "    sharpe = (CAGR(ohlcv_data[ticker]) - 0.03 / volatility(ohlcv_data[ticker]))\n",
    "    print(f\"sharpe of {ticker} is {sharpe}\")"
   ]
  },
  {
   "cell_type": "code",
   "execution_count": 122,
   "id": "f08c7dba-7b05-44a0-8ee7-17444423322e",
   "metadata": {},
   "outputs": [],
   "source": [
    "def sortino(DF,rf):\n",
    "    DF.dropna(how='any',inplace=True)\n",
    "    df = DF.copy()\n",
    "    df['return'] = df['Close'].pct_change()\n",
    "    neg_ret = np.where(df['return'] > 0,0,df['return'])\n",
    "    neg_vol = pd.Series(neg_ret[neg_ret!=0]).std() * np.sqrt(252)\n",
    "    return (CAGR(df) - rf)/neg_vol\n"
   ]
  },
  {
   "cell_type": "code",
   "execution_count": 123,
   "id": "78978a1e-bb21-4fd3-a731-5a3e4d476fc1",
   "metadata": {
    "scrolled": true
   },
   "outputs": [
    {
     "name": "stdout",
     "output_type": "stream",
     "text": [
      "sharpe of AMZN is 0.9986489229208009\n",
      "sharpe of MSFT is -0.8663563921644082\n",
      "sharpe of META is 1.6909821964468523\n",
      "sharpe of GOOG is 0.36515938930185\n"
     ]
    },
    {
     "name": "stderr",
     "output_type": "stream",
     "text": [
      "/tmp/ipykernel_57277/1545084155.py:6: FutureWarning: Series.__getitem__ treating keys as positions is deprecated. In a future version, integer keys will always be treated as labels (consistent with DataFrame behavior). To access a value by position, use `ser.iloc[pos]`\n",
      "  CAGR = (df['cum_return'][-1])**(1/n)-1\n",
      "/tmp/ipykernel_57277/1545084155.py:6: FutureWarning: Series.__getitem__ treating keys as positions is deprecated. In a future version, integer keys will always be treated as labels (consistent with DataFrame behavior). To access a value by position, use `ser.iloc[pos]`\n",
      "  CAGR = (df['cum_return'][-1])**(1/n)-1\n",
      "/tmp/ipykernel_57277/1545084155.py:6: FutureWarning: Series.__getitem__ treating keys as positions is deprecated. In a future version, integer keys will always be treated as labels (consistent with DataFrame behavior). To access a value by position, use `ser.iloc[pos]`\n",
      "  CAGR = (df['cum_return'][-1])**(1/n)-1\n",
      "/tmp/ipykernel_57277/1545084155.py:6: FutureWarning: Series.__getitem__ treating keys as positions is deprecated. In a future version, integer keys will always be treated as labels (consistent with DataFrame behavior). To access a value by position, use `ser.iloc[pos]`\n",
      "  CAGR = (df['cum_return'][-1])**(1/n)-1\n"
     ]
    }
   ],
   "source": [
    "# sortino\n",
    "for ticker in ohlcv_data:\n",
    "    # print(ohlcv_data[ticker]['Close'].columns)\n",
    "    print(f\"sharpe of {ticker} is {sortino(ohlcv_data[ticker],0.03)}\")"
   ]
  },
  {
   "cell_type": "code",
   "execution_count": 117,
   "id": "fb4974f9-3494-4b83-9a0c-10e43ef7335e",
   "metadata": {},
   "outputs": [],
   "source": [
    "def max_drawdown(DF):\n",
    "    df = DF.copy()\n",
    "    df['return'] = df['Close'].pct_change()\n",
    "    df['cum_return'] = (1+df['return']).cumprod()\n",
    "    df['cum_roll_max'] = df['cum_return'].cummax()\n",
    "    df['drawdown'] = df['cum_roll_max'] - df['cum_return']\n",
    "    return (df['drawdown']/df['cum_roll_max']).max()"
   ]
  },
  {
   "cell_type": "code",
   "execution_count": 118,
   "id": "0424ae78-6d52-4ffe-b701-221add0032bb",
   "metadata": {},
   "outputs": [
    {
     "name": "stdout",
     "output_type": "stream",
     "text": [
      "max draw down of AMZN is 0.19489997863769548\n",
      "max draw down of MSFT is 0.15486782863320248\n",
      "max draw down of META is 0.1602118312439254\n",
      "max draw down of GOOG is 0.22279230359186986\n"
     ]
    }
   ],
   "source": [
    "# max draw down\n",
    "for ticker in ohlcv_data:\n",
    "    print(f\"max draw down of {ticker} is {max_drawdown(ohlcv_data[ticker])}\")"
   ]
  },
  {
   "cell_type": "code",
   "execution_count": null,
   "id": "aebb0f36-908e-4b1a-92e4-497ad874c8f1",
   "metadata": {},
   "outputs": [],
   "source": []
  }
 ],
 "metadata": {
  "kernelspec": {
   "display_name": "Python 3 (ipykernel)",
   "language": "python",
   "name": "python3"
  },
  "language_info": {
   "codemirror_mode": {
    "name": "ipython",
    "version": 3
   },
   "file_extension": ".py",
   "mimetype": "text/x-python",
   "name": "python",
   "nbconvert_exporter": "python",
   "pygments_lexer": "ipython3",
   "version": "3.10.12"
  }
 },
 "nbformat": 4,
 "nbformat_minor": 5
}
