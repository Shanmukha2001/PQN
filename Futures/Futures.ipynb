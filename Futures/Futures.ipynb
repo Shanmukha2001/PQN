{
 "cells": [
  {
   "cell_type": "code",
   "execution_count": 1,
   "id": "0862055f-6fb6-4bb9-b51f-6e460da5dd75",
   "metadata": {},
   "outputs": [],
   "source": [
    "import numpy as np\n",
    "import pandas as pd\n",
    "import matplotlib.pyplot as plt"
   ]
  },
  {
   "cell_type": "code",
   "execution_count": null,
   "id": "e715bcb6-bf83-4d10-86c5-530a4df4dc0a",
   "metadata": {},
   "outputs": [],
   "source": [
    "future_contract = symbols('NGF18')\n",
    "for key in future_contract.to_dict():\n",
    "    print(key)\n",
    "    print(future_contract.to_dict()[key])\n",
    "    print('\\n')"
   ]
  },
  {
   "cell_type": "code",
   "execution_count": null,
   "id": "dd9fb872-dcff-4870-89d1-1907fdde5417",
   "metadata": {},
   "outputs": [],
   "source": [
    "future_position_value = get_pricing(future_contract,start_date='2017-01-01',end_date='2018-01-01')\n",
    "future_position_value.name = future_position_value.name.symbol\n",
    "future_position_value.plot()\n",
    "plt.title('NG Futures Price')\n",
    "plt.xlabel('Date')\n",
    "plt.ylabel('Price');"
   ]
  },
  {
   "cell_type": "code",
   "execution_count": null,
   "id": "6ba8f8cb-8911-4ddb-87a1-7eaddb5373f3",
   "metadata": {},
   "outputs": [],
   "source": [
    "from quantopian.research.experimental import history"
   ]
  },
  {
   "cell_type": "code",
   "execution_count": null,
   "id": "94c50e29-ebf7-4627-af4a-11d5aab72d18",
   "metadata": {},
   "outputs": [],
   "source": [
    "ngf18 = future_contract"
   ]
  },
  {
   "cell_type": "code",
   "execution_count": null,
   "id": "6f26e679-79b8-430e-ba5c-71936fcb25bc",
   "metadata": {},
   "outputs": [],
   "source": [
    "ngf18_data = history(ngf18,\n",
    "                     fields=['price', 'open_price', 'high', 'low', 'close_price', 'volume', 'contract'],\n",
    "                    frequency = 'daily',\n",
    "                    start_date='2017-06-01', \n",
    "                     end_date='2017-08-01')\n",
    "ngf18_data.head()"
   ]
  },
  {
   "cell_type": "code",
   "execution_count": null,
   "id": "d7e1cb77-4bd8-46b0-a5ff-6a4c2dba2686",
   "metadata": {},
   "outputs": [],
   "source": [
    "ngf18_data['volume'].plot(kind='bar')"
   ]
  },
  {
   "cell_type": "code",
   "execution_count": null,
   "id": "01b3966c-bdd2-4ea7-ab65-afb4f52e6a0e",
   "metadata": {},
   "outputs": [],
   "source": [
    "ng_contracts = symbols(['NGF17', 'NGG17', 'NGH17', 'NGJ17', 'NGK17', 'NGM17'])"
   ]
  },
  {
   "cell_type": "code",
   "execution_count": null,
   "id": "835889b7-5e52-4908-93bf-1a209087816b",
   "metadata": {},
   "outputs": [],
   "source": [
    "ng_consec_contract_vol = history(ng_contracts,\n",
    "                                fields='volume',\n",
    "                                frequency='daily',\n",
    "                                start_date='2016-01-01', \n",
    "                                end_date='2017-08-01')"
   ]
  },
  {
   "cell_type": "code",
   "execution_count": null,
   "id": "ecb48d64-50dd-45a9-b77a-6f6ae3b43b8b",
   "metadata": {},
   "outputs": [],
   "source": [
    "ng_consecutive_contract_volume.plot()"
   ]
  },
  {
   "cell_type": "code",
   "execution_count": null,
   "id": "6c3193e9-dc32-4a6a-9b93-b3731bbba20f",
   "metadata": {},
   "outputs": [],
   "source": [
    "ng_consecutive_contract_volume.plot(xlim=['2016-10-01','2017-08-01'])"
   ]
  },
  {
   "cell_type": "markdown",
   "id": "d0f3d304-c063-4eb9-9320-190ebb0cf2e5",
   "metadata": {},
   "source": [
    "## Continuous futures"
   ]
  },
  {
   "cell_type": "code",
   "execution_count": null,
   "id": "cf14802c-faf9-473e-8a1c-56237c6b4704",
   "metadata": {},
   "outputs": [],
   "source": [
    "continuous_ng = continuous_future('NG',offset = ,roll='volume',adjustment='mul') # continous = merged"
   ]
  },
  {
   "cell_type": "code",
   "execution_count": null,
   "id": "f2bf4e8e-a7be-4064-adb1-6c7739213838",
   "metadata": {},
   "outputs": [],
   "source": [
    "ng_cont_active = history(continuous_ng,fields=['contract','price','volume'],frequency='daily',start_date='2016-10-01', \n",
    "                    end_date='2017-08-01')"
   ]
  },
  {
   "cell_type": "code",
   "execution_count": null,
   "id": "c409cfb7-eeda-4f1a-ba2a-8703ead91256",
   "metadata": {},
   "outputs": [],
   "source": [
    "ng_consecutive_contract_volume = history(ng_contracts,fields='volume',frequency='daily'start_date='2016-10-01', \n",
    "                    end_date='2017-08-01')"
   ]
  },
  {
   "cell_type": "code",
   "execution_count": null,
   "id": "e997a429-aa7d-4afa-bd1f-96310ded9231",
   "metadata": {},
   "outputs": [],
   "source": [
    "ax = ng_cont_active['volume'].plot(ls='--',c='black',lw=3)\n",
    "ng_consecutive_contract_colume.plot(ax=ax)"
   ]
  },
  {
   "cell_type": "code",
   "execution_count": null,
   "id": "082ac081-bdd6-48cd-b639-d9ea024733db",
   "metadata": {},
   "outputs": [],
   "source": [
    "ng_consecutive_contract_price = history(ng_contracts, \n",
    "                                         fields='price', \n",
    "                                         frequency='daily', \n",
    "                                         start_date='2016-10-01', \n",
    "                                         end_date='2017-08-01')\n",
    "\n",
    "ng_continuous_active = history(continuous_ng, \n",
    "                    fields=['contract','price','volume'] ,\n",
    "                    frequency='daily', \n",
    "                    start_date='2016-10-01', \n",
    "                    end_date='2017-08-01')"
   ]
  },
  {
   "cell_type": "code",
   "execution_count": null,
   "id": "24afec8b-fed3-4ba8-bd78-6bb20d78129f",
   "metadata": {},
   "outputs": [],
   "source": [
    "ng_consecutive_contract_price.plot()"
   ]
  },
  {
   "cell_type": "code",
   "execution_count": null,
   "id": "7c91572a-303f-4325-a532-c2b1638db0db",
   "metadata": {},
   "outputs": [],
   "source": [
    "ng_cont_active['price'].plot(c='black',lw=3)"
   ]
  },
  {
   "cell_type": "code",
   "execution_count": null,
   "id": "a7faf238-15f3-4d27-a633-e91f5e4ca8d6",
   "metadata": {},
   "outputs": [],
   "source": [
    "continuous_ng_unadjusted = continuous_future('NG', offset=0, roll='volume', adjustment=None) # continous yet broken between consec futures"
   ]
  },
  {
   "cell_type": "code",
   "execution_count": null,
   "id": "e77ecc88-d1ed-42dc-a8b3-73811397afd4",
   "metadata": {},
   "outputs": [],
   "source": [
    "ng_unadjusted_history = history(continuous_ng_unadjusted, \n",
    "                                fields=['contract', 'price'], \n",
    "                                frequency='daily', \n",
    "                                start_date='2016-10-01', \n",
    "                                end_date='2017-08-01')"
   ]
  },
  {
   "cell_type": "code",
   "execution_count": null,
   "id": "0b1f4113-010c-487f-9f2a-379a896a03b9",
   "metadata": {},
   "outputs": [],
   "source": [
    "ng_unadjusted_history.head()"
   ]
  },
  {
   "cell_type": "code",
   "execution_count": null,
   "id": "c9014ebd-4835-4586-82e9-8e1031d82e05",
   "metadata": {},
   "outputs": [],
   "source": [
    "ng_unadjusted_history.plot()"
   ]
  },
  {
   "cell_type": "code",
   "execution_count": null,
   "id": "5df6c0bc-c2ac-40a5-b54d-fa0f88a502db",
   "metadata": {},
   "outputs": [],
   "source": [
    "ng_consecutive_contract_price.plot()"
   ]
  },
  {
   "cell_type": "code",
   "execution_count": null,
   "id": "edf7d382-de46-402e-82c7-c9827a67cbc5",
   "metadata": {},
   "outputs": [],
   "source": [
    "pivot_unadj = ng_unadjusted_history.pivot(index=ng_unadjusted_history.index,columns='contract')"
   ]
  },
  {
   "cell_type": "code",
   "execution_count": null,
   "id": "8bca8f33-dc57-4dcc-959d-1aea88d3274d",
   "metadata": {},
   "outputs": [],
   "source": [
    "pivot_unadj.head()"
   ]
  },
  {
   "cell_type": "code",
   "execution_count": null,
   "id": "382af0b2-9759-4b6a-aafb-a607891212b7",
   "metadata": {},
   "outputs": [],
   "source": [
    "pivot_unadj.plot()"
   ]
  },
  {
   "cell_type": "code",
   "execution_count": null,
   "id": "7b3f4f74-9f29-46fe-bae7-cea943437da4",
   "metadata": {},
   "outputs": [],
   "source": [
    "ax = pivot_unadj.plot()\n",
    "ng_unadjusted_history.plot(ax=ax,ls='--',c='black')"
   ]
  },
  {
   "cell_type": "markdown",
   "id": "7402a53a-fb91-40de-9777-8008ce4a91f0",
   "metadata": {},
   "source": [
    "adj types = mul and add"
   ]
  }
 ],
 "metadata": {
  "kernelspec": {
   "display_name": "Python 3 (ipykernel)",
   "language": "python",
   "name": "python3"
  },
  "language_info": {
   "codemirror_mode": {
    "name": "ipython",
    "version": 3
   },
   "file_extension": ".py",
   "mimetype": "text/x-python",
   "name": "python",
   "nbconvert_exporter": "python",
   "pygments_lexer": "ipython3",
   "version": "3.10.12"
  }
 },
 "nbformat": 4,
 "nbformat_minor": 5
}
