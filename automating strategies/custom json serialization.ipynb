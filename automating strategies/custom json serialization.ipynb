{
 "cells": [
  {
   "cell_type": "code",
   "execution_count": 2,
   "id": "1aad7cfd-cfc7-4a25-b1f8-ac0b7832a799",
   "metadata": {},
   "outputs": [],
   "source": [
    "import json\n",
    "import requests\n",
    "from datetime import datetime"
   ]
  },
  {
   "cell_type": "code",
   "execution_count": 5,
   "id": "8ac6a21e-8bcb-48f1-96c0-0ab612dd2a68",
   "metadata": {},
   "outputs": [],
   "source": [
    "class MyJsonEncoder(json.JSONEncoder):\n",
    "    def default(self,obj):\n",
    "        if(isinstance(obj,datetime)):\n",
    "            return obj.isoformat()\n",
    "        return super().default(obj)"
   ]
  },
  {
   "cell_type": "code",
   "execution_count": 12,
   "id": "93298cb3-ab49-4037-8fd4-eef5d2723ff6",
   "metadata": {},
   "outputs": [
    {
     "name": "stdout",
     "output_type": "stream",
     "text": [
      "{\"time\": \"2024-12-21T20:56:55.635199\"} <class 'str'>\n"
     ]
    }
   ],
   "source": [
    "curr_time = datetime.now()\n",
    "# Serialize the datetime object using the custom encoder\n",
    "json_data_str = json.dumps({\"time\": curr_time}, cls=MyJsonEncoder)\n",
    "\n",
    "print(json_data_str,type(json_data_str))\n"
   ]
  },
  {
   "cell_type": "code",
   "execution_count": 13,
   "id": "80550762-5f49-4f14-8f1f-c8581b4c5934",
   "metadata": {},
   "outputs": [],
   "source": [
    "def custom_decoder(dict):\n",
    "   if 'time' in dict:\n",
    "       dict['time'] = datetime.fromisoformat(dict['time'])\n",
    "   return dict"
   ]
  },
  {
   "cell_type": "code",
   "execution_count": 15,
   "id": "aec9ab4a-4a29-48cc-9573-e244de21caa2",
   "metadata": {},
   "outputs": [
    {
     "data": {
      "text/plain": [
       "{'time': datetime.datetime(2024, 12, 21, 20, 56, 55, 635199)}"
      ]
     },
     "execution_count": 15,
     "metadata": {},
     "output_type": "execute_result"
    }
   ],
   "source": [
    "json_obj = json.loads(json_data_str,object_hook=custom_decoder)\n",
    "json_obj"
   ]
  }
 ],
 "metadata": {
  "kernelspec": {
   "display_name": "Python 3 (ipykernel)",
   "language": "python",
   "name": "python3"
  },
  "language_info": {
   "codemirror_mode": {
    "name": "ipython",
    "version": 3
   },
   "file_extension": ".py",
   "mimetype": "text/x-python",
   "name": "python",
   "nbconvert_exporter": "python",
   "pygments_lexer": "ipython3",
   "version": "3.10.12"
  }
 },
 "nbformat": 4,
 "nbformat_minor": 5
}
